{
 "cells": [
  {
   "cell_type": "code",
   "execution_count": 4,
   "id": "560c11c4",
   "metadata": {},
   "outputs": [
    {
     "name": "stdout",
     "output_type": "stream",
     "text": [
      "Hi There!!\n",
      "Vrajesh\n"
     ]
    }
   ],
   "source": [
    "#Variables \n",
    "message = \"Hi There!!\"\n",
    "print(message)\n",
    "message = \"Vrajesh\"\n",
    "print(message)"
   ]
  },
  {
   "cell_type": "code",
   "execution_count": 5,
   "id": "efa3c11a",
   "metadata": {
    "scrolled": true
   },
   "outputs": [
    {
     "name": "stdout",
     "output_type": "stream",
     "text": [
      "Hello World!\n",
      "Vrajesh\n",
      "VRAJESH\n",
      "vrajesh\n"
     ]
    }
   ],
   "source": [
    "#String can take values in  both \"\" and ''\n",
    "string = \"Hello World!\"\n",
    "print(string)\n",
    "string = 'vrajesh'\n",
    "#Change Case method\n",
    "print(string.title())\n",
    "print(string.upper())\n",
    "print(string.lower())"
   ]
  },
  {
   "cell_type": "code",
   "execution_count": 17,
   "id": "18cbd08e",
   "metadata": {},
   "outputs": [
    {
     "name": "stdout",
     "output_type": "stream",
     "text": [
      "Vrajesh  Patel\n",
      "Vrajesh\n",
      "Vrajesh \n",
      "Vrajesh\n",
      "Once Albert Einstin said \n",
      "\"If I got 60 mins to solve a problem \n",
      " I would use 59min to understand \n",
      " 1 min to solve the problem\"\n"
     ]
    }
   ],
   "source": [
    "#Concatination\n",
    "first_name = \"Vrajesh \"\n",
    "last_name = \"Patel\"\n",
    "print(first_name + \" \" + last_name)\n",
    "#\\t for tab\n",
    "#\\n for new line\n",
    "print(first_name.strip()) #this function remove extra whitespace\n",
    "print(first_name.lstrip())\n",
    "print(first_name.rstrip())\n",
    "print('Once Albert Einstin said \\n\"If I got 60 mins to solve a problem \\n I would use 59min to understand \\n 1 min to solve the problem\"')"
   ]
  },
  {
   "cell_type": "code",
   "execution_count": 25,
   "id": "a298c178",
   "metadata": {},
   "outputs": [
    {
     "name": "stdout",
     "output_type": "stream",
     "text": [
      "5\n",
      "1\n",
      "6\n",
      "3.0\n",
      "9\n",
      "1.0\n"
     ]
    }
   ],
   "source": [
    "#Integers \n",
    "#Performing Mathematical Operations\n",
    "print(3 + 2)\n",
    "print(3 - 2) \n",
    "print(3 * 2)\n",
    "print(6 / 2)\n",
    "print(3 **2) #3^2\n",
    "print(0.1 + 0.9)"
   ]
  },
  {
   "cell_type": "code",
   "execution_count": 23,
   "id": "bf330fac",
   "metadata": {},
   "outputs": [
    {
     "name": "stdout",
     "output_type": "stream",
     "text": [
      "Happy 20rd Birthday\n"
     ]
    }
   ],
   "source": [
    "age = 20\n",
    "print(\"Happy \" + str(age) + \"rd Birthday\" )"
   ]
  },
  {
   "cell_type": "code",
   "execution_count": 24,
   "id": "8a1bfc66",
   "metadata": {},
   "outputs": [
    {
     "name": "stdout",
     "output_type": "stream",
     "text": [
      "The Zen of Python, by Tim Peters\n",
      "\n",
      "Beautiful is better than ugly.\n",
      "Explicit is better than implicit.\n",
      "Simple is better than complex.\n",
      "Complex is better than complicated.\n",
      "Flat is better than nested.\n",
      "Sparse is better than dense.\n",
      "Readability counts.\n",
      "Special cases aren't special enough to break the rules.\n",
      "Although practicality beats purity.\n",
      "Errors should never pass silently.\n",
      "Unless explicitly silenced.\n",
      "In the face of ambiguity, refuse the temptation to guess.\n",
      "There should be one-- and preferably only one --obvious way to do it.\n",
      "Although that way may not be obvious at first unless you're Dutch.\n",
      "Now is better than never.\n",
      "Although never is often better than *right* now.\n",
      "If the implementation is hard to explain, it's a bad idea.\n",
      "If the implementation is easy to explain, it may be a good idea.\n",
      "Namespaces are one honking great idea -- let's do more of those!\n"
     ]
    }
   ],
   "source": [
    "import this"
   ]
  },
  {
   "cell_type": "code",
   "execution_count": null,
   "id": "3adc13f6",
   "metadata": {},
   "outputs": [],
   "source": []
  }
 ],
 "metadata": {
  "kernelspec": {
   "display_name": "Python 3 (ipykernel)",
   "language": "python",
   "name": "python3"
  },
  "language_info": {
   "codemirror_mode": {
    "name": "ipython",
    "version": 3
   },
   "file_extension": ".py",
   "mimetype": "text/x-python",
   "name": "python",
   "nbconvert_exporter": "python",
   "pygments_lexer": "ipython3",
   "version": "3.9.12"
  }
 },
 "nbformat": 4,
 "nbformat_minor": 5
}
