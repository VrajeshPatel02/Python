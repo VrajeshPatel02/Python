{
 "cells": [
  {
   "cell_type": "code",
   "execution_count": 1,
   "id": "1e8472fc",
   "metadata": {},
   "outputs": [
    {
     "name": "stdout",
     "output_type": "stream",
     "text": [
      "Vrajesh\n",
      "Patel\n",
      "20\n",
      "Vapi \n",
      "\n",
      "Vrajesh\n",
      "Patel\n",
      "20\n",
      "Vapi\n"
     ]
    }
   ],
   "source": [
    "person = {'firstName': 'Vrajesh' ,\n",
    "         'lastName': 'Patel',\n",
    "         'age': '20',\n",
    "         'city': 'Vapi'\n",
    "         }\n",
    "#this is how you can print each value of distionary one by one\n",
    "print(person['firstName'])\n",
    "print(person['lastName'])\n",
    "print(person['age'])\n",
    "print(person['city'] ,\"\\n\")\n",
    "\n",
    "#you can print all the values of distionary by using a for loop\n",
    "for my_guy in person.values():\n",
    "    print(my_guy)"
   ]
  },
  {
   "cell_type": "code",
   "execution_count": 11,
   "id": "3920862f",
   "metadata": {},
   "outputs": [
    {
     "name": "stdout",
     "output_type": "stream",
     "text": [
      "VrajeshTheir Number : \n",
      "\t\t\t9\n",
      "\t\t\t6\n",
      "\t\t\t3\n",
      "\n",
      "\n",
      "ChiragTheir Number : \n",
      "\t\t\t6\n",
      "\n",
      "\n",
      "RudraTheir Number : \n",
      "\t\t\t3\n",
      "\t\t\t4\n",
      "\t\t\t2\n",
      "\n",
      "\n",
      "HarshTheir Number : \n",
      "\t\t\t7\n",
      "\n",
      "\n",
      "NikkkilTheir Number : \n",
      "\t\t\t3\n",
      "\t\t\t4\n",
      "\n",
      "\n"
     ]
    }
   ],
   "source": [
    "fav_Num = {'Vrajesh':['9','6','3'],\n",
    "          'Chirag': ['6'],\n",
    "          'Rudra':  ['3','4', '2'],\n",
    "          'Harsh': ['7'],\n",
    "          'Nikkkil': ['3','4']\n",
    "          }\n",
    "for name,nums in fav_Num.items():\n",
    "    print(name + \"Their Number : \")\n",
    "    for num in nums:\n",
    "        print(\"\\t\\t\\t\" +num)\n",
    "    print(\"\\n\")"
   ]
  },
  {
   "cell_type": "code",
   "execution_count": 3,
   "id": "254c64c2",
   "metadata": {},
   "outputs": [
    {
     "name": "stdout",
     "output_type": "stream",
     "text": [
      "The Mississippi runs through US\n",
      "The Volga runs through Russia\n",
      "The Zambezi runs through Africa\n",
      "The Mekong runs through China\n",
      "The Ganges runs through India\n",
      "The Danube runs through Europe\n"
     ]
    }
   ],
   "source": [
    " rivers = {'Mississippi': 'US',\n",
    "          'Volga': 'Russia',\n",
    "          'Zambezi': 'Africa',\n",
    "           'Mekong': 'China',\n",
    "           'Ganges': 'India',\n",
    "           'Danube': 'Europe'\n",
    "          }\n",
    "for key, value in rivers.items():\n",
    "    print(\"The \" + key + \" runs through \" + value)"
   ]
  },
  {
   "cell_type": "code",
   "execution_count": 4,
   "id": "3d9a4235",
   "metadata": {},
   "outputs": [
    {
     "name": "stdout",
     "output_type": "stream",
     "text": [
      "sara you are invited to join the poll.\n",
      "vicky you are invited to join the poll.\n",
      "gojo you are invited to join the poll.\n",
      "Thanks jen for responding.\n",
      "Thanks phil for responding.\n"
     ]
    }
   ],
   "source": [
    "fav_Languages  = {'jen': 'python',\n",
    "                 'sarah': 'c',\n",
    "                 'edward': 'ruby',\n",
    "                 'phil': 'python'\n",
    "                 }\n",
    "ls = ['sara' , 'vicky', 'gojo' , 'jen' , 'phil']\n",
    "for name in ls:\n",
    "    if name in fav_Languages.keys():\n",
    "        print(\"Thanks \" + name + \" for responding.\")\n",
    "    else :\n",
    "        print(name + \" you are invited to join the poll.\")"
   ]
  },
  {
   "cell_type": "code",
   "execution_count": 5,
   "id": "8ce5fbdb",
   "metadata": {},
   "outputs": [
    {
     "name": "stdout",
     "output_type": "stream",
     "text": [
      "Username : vrajesh\n",
      "\tName : Vrajesh Patel\n",
      "\tLocation : Vapi\n",
      "\n",
      "Username : rudra\n",
      "\tName : Rudra Patel\n",
      "\tLocation : Nadiad\n",
      "\n"
     ]
    }
   ],
   "source": [
    "profile = {'vrajesh': {'first': 'vrajesh',\n",
    "                      'last': 'patel',\n",
    "                       'age': '20',\n",
    "                      'location': 'vapi'},\n",
    "          'rudra': {'first': 'rudra',\n",
    "                      'last': 'patel',\n",
    "                       'age': '20',\n",
    "                      'location': 'nadiad'}\n",
    "          }\n",
    "for username ,userinfo in profile.items():\n",
    "    print(\"Username : \" + username)\n",
    "    full_name = userinfo['first'] + \" \" + userinfo['last']\n",
    "    location = userinfo['location']\n",
    "    print(\"\\tName : \" + full_name.title())\n",
    "    print(\"\\tLocation : \" + location.title() + \"\\n\")"
   ]
  },
  {
   "cell_type": "code",
   "execution_count": 6,
   "id": "dad05ad7",
   "metadata": {},
   "outputs": [
    {
     "name": "stdout",
     "output_type": "stream",
     "text": [
      "Pet name : Mithu\n",
      "\t type of pet : Bird\n",
      "\t type of pet : Vraj\n",
      "\n",
      "Pet name : Yuvraj\n",
      "\t type of pet : Dog\n",
      "\t type of pet : Roshan\n",
      "\n",
      "Pet name : Oreo\n",
      "\t type of pet : Cat\n",
      "\t type of pet : Chirag\n",
      "\n"
     ]
    }
   ],
   "source": [
    "pets = {'Mithu':{'type': 'Bird',\n",
    "                'owner': 'vraj'\n",
    "                },\n",
    "       'Yuvraj': {'type': 'dog',\n",
    "               'owner': 'roshan'\n",
    "               },\n",
    "        'Oreo': {'type': 'cat',\n",
    "                'owner': 'chirag'\n",
    "                }\n",
    "       }\n",
    "for pet,detail in pets.items():\n",
    "    print(\"Pet name : \" + pet)\n",
    "    print(\"\\t type of pet : \" + detail['type'].title())\n",
    "    print(\"\\t type of pet : \" + detail['owner'].title() + \"\\n\")"
   ]
  },
  {
   "cell_type": "code",
   "execution_count": null,
   "id": "a9209ff4",
   "metadata": {},
   "outputs": [],
   "source": []
  }
 ],
 "metadata": {
  "kernelspec": {
   "display_name": "Python 3 (ipykernel)",
   "language": "python",
   "name": "python3"
  },
  "language_info": {
   "codemirror_mode": {
    "name": "ipython",
    "version": 3
   },
   "file_extension": ".py",
   "mimetype": "text/x-python",
   "name": "python",
   "nbconvert_exporter": "python",
   "pygments_lexer": "ipython3",
   "version": "3.9.12"
  }
 },
 "nbformat": 4,
 "nbformat_minor": 5
}
