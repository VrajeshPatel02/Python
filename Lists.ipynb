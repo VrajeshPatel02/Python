{
 "cells": [
  {
   "cell_type": "code",
   "execution_count": null,
   "id": "70f1ac09",
   "metadata": {},
   "outputs": [],
   "source": [
    "fruits = ['Banana','Watermelon','Kiwi','Papaya','Pineapple']\n",
    "print(fruits[0])\n",
    " \n",
    "#Using negative sign we can start our list from the end\n",
    "\n",
    "print(fruits[-1].upper())\n",
    "print(\"My fav fruit is \" + fruits[1] +\".\")"
   ]
  },
  {
   "cell_type": "code",
   "execution_count": null,
   "id": "ef6324e8",
   "metadata": {},
   "outputs": [],
   "source": [
    "fruits = ['Banana','Watermelon','Kiwi','Papaya','Pineapple']\n",
    "\n",
    "#Adding new elements in list\n",
    "\n",
    "fruits.append('Grapes')\n",
    "print(fruits)"
   ]
  },
  {
   "cell_type": "code",
   "execution_count": null,
   "id": "10823a2e",
   "metadata": {},
   "outputs": [],
   "source": [
    "fruits = ['Banana','Watermelon','Kiwi','Papaya','Pineapple']\n",
    "\n",
    "#Adding multiple values in list\n",
    "\n",
    "fruits2 = ['Grapes','Chiku']\n",
    "for f in fruits2:\n",
    "    fruits.append(f)    \n",
    "print(fruits)"
   ]
  },
  {
   "cell_type": "code",
   "execution_count": null,
   "id": "8447e29e",
   "metadata": {},
   "outputs": [],
   "source": [
    "bikes = ['ktm','bmw','yamaha','honda']\n",
    "\n",
    "#Inserting elements in list\n",
    "\n",
    "bikes.insert(0,'suzuki')\n",
    "print(bikes)\n",
    "\n",
    "#Deleting elements from a list\n",
    "\n",
    "del bikes[1]\n",
    "print(bikes)\n",
    "\n",
    "#Remove a element from list\n",
    "\n",
    "bikes.remove('honda')\n",
    "print(bikes)\n",
    "\n",
    "#Removing multiple elements\n",
    "\n",
    "too_expen = ('bmw','yamaha')\n",
    "for i in too_expen:\n",
    "    bikes.remove(i)\n",
    "print(bikes)"
   ]
  },
  {
   "cell_type": "code",
   "execution_count": null,
   "id": "fb713076",
   "metadata": {},
   "outputs": [],
   "source": [
    "bikes = ['ktm','bmw','yamaha','honda']\n",
    "bikes.pop(2)\n",
    "print(bikes)"
   ]
  },
  {
   "cell_type": "code",
   "execution_count": null,
   "id": "ce5779c7",
   "metadata": {},
   "outputs": [],
   "source": [
    "bikes = ['ktm','bmw','yamaha','honda']\n",
    "\n",
    "#Sorting in alphabetical order A-Z permanently\n",
    "\n",
    "bikes.sort()\n",
    "print(bikes)\n",
    "\n",
    "#Sorting in alphabetical order Z-A parmanently\n",
    "\n",
    "bikes.sort(reverse=True)\n",
    "print(bikes)"
   ]
  },
  {
   "cell_type": "code",
   "execution_count": null,
   "id": "a3c14983",
   "metadata": {},
   "outputs": [],
   "source": [
    "bikes = ['ktm','bmw','yamaha','honda']\n",
    "\n",
    "#Sorting list temporalily\n",
    "\n",
    "print(sorted(bikes),\"\\n\")\n",
    "print(sorted(bikes,reverse=True), \"\\n\")\n",
    "print(bikes)\n",
    "\n",
    "#Permanently Reversing list\n",
    "\n",
    "bikes.reverse()\n",
    "print(bikes)"
   ]
  },
  {
   "cell_type": "code",
   "execution_count": null,
   "id": "b36dcdd8",
   "metadata": {},
   "outputs": [],
   "source": [
    "bikes = ['ktm','bmw','yamaha','honda']\n",
    "\n",
    "#Length of List\n",
    "\n",
    "len(bikes)\n",
    "print(bikes[3])"
   ]
  },
  {
   "cell_type": "code",
   "execution_count": 35,
   "id": "18e989e7",
   "metadata": {},
   "outputs": [
    {
     "name": "stdout",
     "output_type": "stream",
     "text": [
      "[1, 4, 9, 16, 25, 36, 49, 64, 81, 100]\n",
      "[1, 4, 9, 16, 25, 36, 49, 64, 81, 100]\n"
     ]
    }
   ],
   "source": [
    "value = []\n",
    "for i in range(1,11):\n",
    "    value.append(i**2)\n",
    "print(value)\n",
    "\n",
    "#List Comprihension\n",
    "\n",
    "value = [i**2 for i in range(1,11)]\n",
    "print(value)"
   ]
  },
  {
   "cell_type": "code",
   "execution_count": 1,
   "id": "a2f34b21",
   "metadata": {},
   "outputs": [
    {
     "name": "stdout",
     "output_type": "stream",
     "text": [
      "1 2 3 4 5 6 7 8 9 10 11 12 13 14 15 16 17 18 19 20 \n",
      "\n",
      "3 5 7 9 11 13 15 17 19 \n",
      "\n",
      "[3, 6, 9, 12, 15, 18, 21, 24, 27, 30]\n",
      "\n",
      "\n",
      "[1, 8, 27, 64, 125, 216, 343, 512, 729, 1000]\n"
     ]
    }
   ],
   "source": [
    "for i in range(1,21):\n",
    "    print(i,end =\" \")\n",
    "print(\"\\n\")\n",
    "for j in range(3,21,2):\n",
    "    print(j,end = \" \")\n",
    "print(\"\\n\")\n",
    "table = [i*3 for i in range(1,11)]\n",
    "print(table)\n",
    "print (\"\\n\")\n",
    "cube = [k**3 for k in range(1,11)]\n",
    "print(cube)"
   ]
  },
  {
   "cell_type": "code",
   "execution_count": 34,
   "id": "4fc1b262",
   "metadata": {},
   "outputs": [
    {
     "name": "stdout",
     "output_type": "stream",
     "text": [
      "1234556\n",
      "['1', '2', '3', '4', '5', '5', '6']\n"
     ]
    }
   ],
   "source": [
    "#List function to create new List\n",
    "ls = list(input())\n",
    "print(ls)"
   ]
  },
  {
   "cell_type": "code",
   "execution_count": 24,
   "id": "f39dba65",
   "metadata": {},
   "outputs": [
    {
     "name": "stdout",
     "output_type": "stream",
     "text": [
      "0\n",
      "9\n",
      "45\n"
     ]
    }
   ],
   "source": [
    "digits = [1,2,3,4,5,6,7,8,9,0]\n",
    "print(min(digits))\n",
    "print(max(digits))\n",
    "print(sum(digits))"
   ]
  },
  {
   "cell_type": "code",
   "execution_count": 13,
   "id": "87679c15",
   "metadata": {},
   "outputs": [
    {
     "name": "stdout",
     "output_type": "stream",
     "text": [
      "['vrajesh', 'chirag', 'vivek']\n",
      "['vivek', 'rudra', 'harsh']\n",
      "['vivek', 'rudra', 'harsh', 'nikkkhil']\n",
      "['rudra', 'harsh', 'nikkkhil']\n",
      "Vrajesh\n",
      "Chirag\n",
      "Vivek\n",
      "Rudra\n"
     ]
    }
   ],
   "source": [
    "#Sliceing\n",
    "players = [\"vrajesh\", \"chirag\", \"vivek\", \"rudra\",\"harsh\",\"nikkkhil\"]\n",
    "print(players[:3])\n",
    "print(players[2:5])\n",
    "print(players[2:])\n",
    "print(players[-3:])\n",
    "for i in players[:4]:\n",
    "    print(i.title())"
   ]
  },
  {
   "cell_type": "code",
   "execution_count": 16,
   "id": "875fba3d",
   "metadata": {},
   "outputs": [
    {
     "name": "stdout",
     "output_type": "stream",
     "text": [
      "['Corn', 'Margreta', 'Veggie', 'Chesse burst']\n",
      "['Corn', 'Margreta', 'Veggie', 'Chesse burst', 'pineapple']\n"
     ]
    }
   ],
   "source": [
    "#Copying List\n",
    "pizza = [\"Corn\", \"Margreta\",\"Veggie\",\"Chesse burst\"]\n",
    "friends_Pizza = pizza[:]\n",
    "friends_Pizza.append(\"pineapple\")\n",
    "print(pizza)\n",
    "print(friends_Pizza)"
   ]
  },
  {
   "cell_type": "code",
   "execution_count": 22,
   "id": "1f8973a3",
   "metadata": {},
   "outputs": [
    {
     "name": "stdout",
     "output_type": "stream",
     "text": [
      "(200, 50)\n",
      "(400, 100)\n"
     ]
    }
   ],
   "source": [
    "#tuples are unchangeable where as list are changeable\n",
    "dimensions = (200,50)\n",
    "print(dimensions)\n",
    "dimensions = (400,100)\n",
    "print(dimensions)"
   ]
  },
  {
   "cell_type": "code",
   "execution_count": null,
   "id": "1e7225be",
   "metadata": {},
   "outputs": [],
   "source": []
  }
 ],
 "metadata": {
  "kernelspec": {
   "display_name": "Python 3 (ipykernel)",
   "language": "python",
   "name": "python3"
  },
  "language_info": {
   "codemirror_mode": {
    "name": "ipython",
    "version": 3
   },
   "file_extension": ".py",
   "mimetype": "text/x-python",
   "name": "python",
   "nbconvert_exporter": "python",
   "pygments_lexer": "ipython3",
   "version": "3.9.12"
  }
 },
 "nbformat": 4,
 "nbformat_minor": 5
}
