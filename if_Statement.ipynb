{
 "cells": [
  {
   "cell_type": "code",
   "execution_count": 1,
   "id": "8c8df80e",
   "metadata": {},
   "outputs": [
    {
     "name": "stdout",
     "output_type": "stream",
     "text": [
      "car == 'subara'\n",
      "car == 'subara'\n"
     ]
    }
   ],
   "source": [
    "#simple if statement\n",
    "\n",
    "car = 'subara'\n",
    "if car == 'subara':\n",
    "    print(\"car == 'subara'\")\n",
    "if car != 'subara':\n",
    "    print(\"car == 'audi'\")\n",
    "if car.upper() == 'SUBARA':\n",
    "    print(\"car == 'subara'\")"
   ]
  },
  {
   "cell_type": "code",
   "execution_count": 2,
   "id": "7da0a4e0",
   "metadata": {},
   "outputs": [
    {
     "name": "stdout",
     "output_type": "stream",
     "text": [
      "['sony']\n"
     ]
    }
   ],
   "source": [
    "#Using if condition in list\n",
    "\n",
    "ls = [\"lumix\",\"sony\",\"canon\",\"nikon\",\"hazzelblade\"]\n",
    "new_ls = [cam for cam in ls if cam == \"sony\" and cam != \"apple\"]\n",
    "print(new_ls)"
   ]
  },
  {
   "cell_type": "code",
   "execution_count": 3,
   "id": "74b046da",
   "metadata": {},
   "outputs": [
    {
     "name": "stdout",
     "output_type": "stream",
     "text": [
      "You are eligible to Vote\n"
     ]
    }
   ],
   "source": [
    "#if-else contion\n",
    "\n",
    "age = 20\n",
    "if age>=18 :\n",
    "    print(\"You are eligible to Vote\")\n",
    "else :\n",
    "    print(\"Sorry try when you are 18\")"
   ]
  },
  {
   "cell_type": "code",
   "execution_count": 4,
   "id": "3f502205",
   "metadata": {},
   "outputs": [
    {
     "name": "stdout",
     "output_type": "stream",
     "text": [
      "Your admission cost is $10.\n"
     ]
    }
   ],
   "source": [
    "#if-elif-else Chain\n",
    "\n",
    "age = 55\n",
    "if age<4 :\n",
    "    price = 0\n",
    "elif age<18 :\n",
    "    price = 5\n",
    "elif age<65:\n",
    "    price = 10\n",
    "else :\n",
    "    price = 5\n",
    "print(\"Your admission cost is $\" + str(price) + '.')"
   ]
  },
  {
   "cell_type": "code",
   "execution_count": 5,
   "id": "77c8118c",
   "metadata": {},
   "outputs": [
    {
     "name": "stdout",
     "output_type": "stream",
     "text": [
      "You earned 5 points!\n"
     ]
    }
   ],
   "source": [
    "alien_color = 'green'\n",
    "if alien_color == 'green' :\n",
    "    points = 5\n",
    "elif alien_color == 'yellow' :\n",
    "    points = 10\n",
    "else:\n",
    "    points = 15\n",
    "print(\"You earned \" + str(points) + \" points!\")"
   ]
  },
  {
   "cell_type": "code",
   "execution_count": 6,
   "id": "89488356",
   "metadata": {},
   "outputs": [
    {
     "name": "stdout",
     "output_type": "stream",
     "text": [
      "A teenager\n"
     ]
    }
   ],
   "source": [
    "age = 19\n",
    "if age<2 :\n",
    "    print(\"A baby\")\n",
    "elif age==2 or age<4 :\n",
    "    print(\"A toddler\")\n",
    "elif age==4 or age<13 :\n",
    "    print(\"A kid\")\n",
    "elif age==13 or age<20 :\n",
    "    print(\"A teenager\")\n",
    "elif age==20 or age<65 :\n",
    "    print(\"A adult\")\n",
    "else :\n",
    "    print(\"A elder\")"
   ]
  },
  {
   "cell_type": "code",
   "execution_count": 7,
   "id": "12fcd625",
   "metadata": {},
   "outputs": [
    {
     "name": "stdout",
     "output_type": "stream",
     "text": [
      "I really like kiwi\n",
      "I really like pineapple\n",
      "I really like guava\n"
     ]
    }
   ],
   "source": [
    "fruits = ['banana','pineapple','kiwi','apple','papaya','guava']\n",
    "favFruits = ['kiwi','pineapple','guava']\n",
    "if 'kiwi' in favFruits :\n",
    "    print(\"I really like kiwi\")\n",
    "if 'banana' in favFruits :\n",
    "    print(\"I really like banana\")\n",
    "if 'pineapple' in favFruits :\n",
    "    print(\"I really like pineapple\")\n",
    "if 'papaya' in favFruits :\n",
    "    print(\"I really like papaya\")\n",
    "if 'apple' in favFruits :\n",
    "    print(\"I really like apple\")\n",
    "if 'guava' in favFruits :\n",
    "    print(\"I really like guava\")"
   ]
  },
  {
   "cell_type": "code",
   "execution_count": 9,
   "id": "b34412c3",
   "metadata": {},
   "outputs": [
    {
     "name": "stdout",
     "output_type": "stream",
     "text": [
      "We need to find more users!\n"
     ]
    }
   ],
   "source": [
    "user_Names = ['admin','Vrajesh', 'Keval', 'Chirag', 'Rudra', 'Harsh']\n",
    "for user in user_Names :\n",
    "    if user == 'admin':\n",
    "        print(\"Hello \" + user + \", would you like too see a status report?\")\n",
    "    elif user in user_Names :\n",
    "        print(\"Hello \" + user + \", thank you for logging in again.\")\n",
    "else :\n",
    "    print(\"We need to find more users!\")"
   ]
  },
  {
   "cell_type": "code",
   "execution_count": 26,
   "id": "661cc892",
   "metadata": {},
   "outputs": [
    {
     "name": "stdout",
     "output_type": "stream",
     "text": [
      "Username is avilable\n",
      "You need to enter a New Username\n",
      "You need to enter a New Username\n",
      "Username is avilable\n",
      "Username is avilable\n"
     ]
    }
   ],
   "source": [
    "current_users = ['Vrajesh', 'Keval', 'Chirag', 'Rudra', 'Harsh']\n",
    "new_users = ['Roshan','Vrajesh','Rudra','Niren','Shubrath']\n",
    "for user in new_users :\n",
    "    if user.upper() in current_users or user.title() in current_users or user.lower() in current_users or user.title() in current_users:\n",
    "        print(\"You need to enter a New Username\")\n",
    "    else :\n",
    "        print(\"Username is avilable\")"
   ]
  },
  {
   "cell_type": "code",
   "execution_count": 27,
   "id": "9d5944bd",
   "metadata": {},
   "outputs": [
    {
     "name": "stdout",
     "output_type": "stream",
     "text": [
      "1st\n",
      "2nd\n",
      "3rd\n",
      "4th\n",
      "5th\n",
      "6th\n",
      "7th\n",
      "8th\n",
      "9th\n"
     ]
    }
   ],
   "source": [
    "ls = [1,2,3,4,5,6,7,8,9]\n",
    "for i in ls :\n",
    "    if i == 1:\n",
    "        print(\"1st\")\n",
    "    elif i == 2:\n",
    "        print(\"2nd\")\n",
    "    elif i == 3:\n",
    "        print(\"3rd\")\n",
    "    else :\n",
    "        print(str(i) + \"th\")\n",
    "        "
   ]
  },
  {
   "cell_type": "code",
   "execution_count": null,
   "id": "f217da12",
   "metadata": {},
   "outputs": [],
   "source": []
  }
 ],
 "metadata": {
  "kernelspec": {
   "display_name": "Python 3 (ipykernel)",
   "language": "python",
   "name": "python3"
  },
  "language_info": {
   "codemirror_mode": {
    "name": "ipython",
    "version": 3
   },
   "file_extension": ".py",
   "mimetype": "text/x-python",
   "name": "python",
   "nbconvert_exporter": "python",
   "pygments_lexer": "ipython3",
   "version": "3.9.12"
  }
 },
 "nbformat": 4,
 "nbformat_minor": 5
}
